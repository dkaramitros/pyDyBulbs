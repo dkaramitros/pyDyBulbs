{
 "cells": [
  {
   "cell_type": "markdown",
   "metadata": {},
   "source": [
    "# Example application"
   ]
  },
  {
   "cell_type": "markdown",
   "metadata": {},
   "source": [
    "## Required packages"
   ]
  },
  {
   "cell_type": "code",
   "execution_count": 1,
   "metadata": {},
   "outputs": [],
   "source": [
    "import numpy as np\n",
    "from stokes import *"
   ]
  },
  {
   "cell_type": "markdown",
   "metadata": {},
   "source": [
    "## Input variables"
   ]
  },
  {
   "cell_type": "code",
   "execution_count": 2,
   "metadata": {},
   "outputs": [],
   "source": [
    "# Load\n",
    "load = [0, 0, 2000]\n",
    "\n",
    "# Receiver\n",
    "R = 5\n",
    "f = 15  *np.pi/180\n",
    "t = 0\n",
    "coord_sph = [R, f, t]\n",
    "coord_cart = [R*np.sin(f), 0, R*np.cos(f)]\n",
    "\n",
    "# Soil\n",
    "Vsel = 150\n",
    "dens = 2\n",
    "nu = 0.30\n",
    "ksi = 0\n",
    "Gel = Vsel**2 * dens\n",
    "Gvisc = Gel * (1+2*1j*ksi)\n",
    "Vs = Vsel * np.sqrt(Gvisc/Gel)\n",
    "\n",
    "# Frequency\n",
    "omega = 3\n",
    "omega_s = omega*R/Vs"
   ]
  },
  {
   "cell_type": "markdown",
   "metadata": {},
   "source": [
    "## Computations"
   ]
  },
  {
   "cell_type": "markdown",
   "metadata": {},
   "source": [
    "### Spherical coordinates"
   ]
  },
  {
   "cell_type": "markdown",
   "metadata": {},
   "source": [
    "Run analysis:"
   ]
  },
  {
   "cell_type": "code",
   "execution_count": 3,
   "metadata": {},
   "outputs": [],
   "source": [
    "[G,dGdx] = stokes_spherical(coordinates=coord_sph, shear=Gvisc, poisson=nu, omega_s=omega_s)\n",
    "[u,dudx] = displacement(dP=load, G=G, dGdx=dGdx)\n",
    "e = strain_spherical(dudx=dudx, u=u, coordinates=coord_sph)\n",
    "s = stress(strain=e, shear=Gvisc, poisson=nu)\n"
   ]
  },
  {
   "cell_type": "markdown",
   "metadata": {},
   "source": [
    "Print results:"
   ]
  },
  {
   "cell_type": "code",
   "execution_count": 4,
   "metadata": {},
   "outputs": [
    {
     "name": "stdout",
     "output_type": "stream",
     "text": [
      "\n",
      "Analysis in spherical coordinates:\n",
      "Displacements:\n",
      "  1: Amplitude: 0.00068, Phase angle: -4.111 degrees\n",
      "  2: Amplitude: 0.00012, Phase angle: 173.605 degrees\n",
      "  3: Amplitude: 0.00000, Phase angle: 0.000 degrees\n",
      "Strains:\n",
      "  1: Amplitude: 0.01370 %, Phase angle: -0.008 degrees\n",
      "  2: Amplitude: 0.00490 %, Phase angle: 179.990 degrees\n",
      "  3: Amplitude: 0.00490 %, Phase angle: 179.990 degrees\n",
      "  4: Amplitude: 0.00000 %, Phase angle: -180.000 degrees\n",
      "  5: Amplitude: 0.00000 %, Phase angle: -180.000 degrees\n",
      "  6: Amplitude: 0.00106 %, Phase angle: 179.959 degrees\n",
      "Stresses:\n",
      "  1: Amplitude: 14.97092, Phase angle: -0.007 degrees\n",
      "  2: Amplitude: 1.76727, Phase angle: 179.979 degrees\n",
      "  3: Amplitude: 1.76727, Phase angle: 179.979 degrees\n",
      "  4: Amplitude: 0.00000, Phase angle: -0.000 degrees\n",
      "  5: Amplitude: 0.00000, Phase angle: -0.000 degrees\n",
      "  6: Amplitude: 0.47521, Phase angle: 179.959 degrees\n"
     ]
    }
   ],
   "source": [
    "\n",
    "print(\"\\nAnalysis in spherical coordinates:\")\n",
    "print(\"Displacements:\")\n",
    "for i,x in enumerate(u):\n",
    "    print(f\"  {i+1}: Amplitude: {abs(x):.5f}, Phase angle: {np.degrees(np.angle(x)):.3f} degrees\")\n",
    "print(\"Strains:\")\n",
    "for i,x in enumerate(e):\n",
    "    print(f\"  {i+1}: Amplitude: {100*abs(x):.5f} %, Phase angle: {np.degrees(np.angle(x)):.3f} degrees\")\n",
    "print(\"Stresses:\")\n",
    "for i,x in enumerate(s):\n",
    "    print(f\"  {i+1}: Amplitude: {abs(x):.5f}, Phase angle: {np.degrees(np.angle(x)):.3f} degrees\")"
   ]
  },
  {
   "cell_type": "markdown",
   "metadata": {},
   "source": [
    "### Cartesian coordinates"
   ]
  },
  {
   "cell_type": "markdown",
   "metadata": {},
   "source": [
    "Run analysis:"
   ]
  },
  {
   "cell_type": "code",
   "execution_count": 5,
   "metadata": {},
   "outputs": [],
   "source": [
    "[G,dGdx] = stokes_cartesian(coordinates=coord_cart, shear=Gvisc, poisson=nu, omega_s=omega_s)\n",
    "[u,dudx] = displacement(dP=load, G=G, dGdx=dGdx)\n",
    "e = strain_cartesian(dudx=dudx)\n",
    "s = stress(strain=e, shear=Gvisc, poisson=nu)"
   ]
  },
  {
   "cell_type": "markdown",
   "metadata": {},
   "source": [
    "Print results:"
   ]
  },
  {
   "cell_type": "code",
   "execution_count": 6,
   "metadata": {},
   "outputs": [
    {
     "name": "stdout",
     "output_type": "stream",
     "text": [
      "\n",
      "Analysis in cartesian coordinates:\n",
      "Displacements:\n",
      "  1: Amplitude: 0.00006, Phase angle: -0.010 degrees\n",
      "  2: Amplitude: 0.00000, Phase angle: 0.000 degrees\n",
      "  3: Amplitude: 0.00069, Phase angle: -4.212 degrees\n",
      "Strains:\n",
      "  1: Amplitude: 0.00391 %, Phase angle: 179.987 degrees\n",
      "  2: Amplitude: 0.00490 %, Phase angle: 179.990 degrees\n",
      "  3: Amplitude: 0.01272 %, Phase angle: -0.009 degrees\n",
      "  4: Amplitude: 0.00000 %, Phase angle: -180.000 degrees\n",
      "  5: Amplitude: 0.00838 %, Phase angle: -0.005 degrees\n",
      "  6: Amplitude: 0.00000 %, Phase angle: -180.000 degrees\n",
      "Stresses:\n",
      "  1: Amplitude: 0.88363, Phase angle: 179.958 degrees\n",
      "  2: Amplitude: 1.76727, Phase angle: 179.979 degrees\n",
      "  3: Amplitude: 14.08728, Phase angle: -0.008 degrees\n",
      "  4: Amplitude: 0.00000, Phase angle: -0.000 degrees\n",
      "  5: Amplitude: 3.77300, Phase angle: -0.005 degrees\n",
      "  6: Amplitude: 0.00000, Phase angle: -0.000 degrees\n"
     ]
    }
   ],
   "source": [
    "print(\"\\nAnalysis in cartesian coordinates:\")\n",
    "print(\"Displacements:\")\n",
    "for i,x in enumerate(u):\n",
    "    print(f\"  {i+1}: Amplitude: {abs(x):.5f}, Phase angle: {np.degrees(np.angle(x)):.3f} degrees\")\n",
    "print(\"Strains:\")\n",
    "for i,x in enumerate(e):\n",
    "    print(f\"  {i+1}: Amplitude: {100*abs(x):.5f} %, Phase angle: {np.degrees(np.angle(x)):.3f} degrees\")\n",
    "print(\"Stresses:\")\n",
    "for i,x in enumerate(s):\n",
    "    print(f\"  {i+1}: Amplitude: {abs(x):.5f}, Phase angle: {np.degrees(np.angle(x)):.3f} degrees\")"
   ]
  }
 ],
 "metadata": {
  "kernelspec": {
   "display_name": "base",
   "language": "python",
   "name": "python3"
  },
  "language_info": {
   "codemirror_mode": {
    "name": "ipython",
    "version": 3
   },
   "file_extension": ".py",
   "mimetype": "text/x-python",
   "name": "python",
   "nbconvert_exporter": "python",
   "pygments_lexer": "ipython3",
   "version": "3.10.9"
  }
 },
 "nbformat": 4,
 "nbformat_minor": 2
}
